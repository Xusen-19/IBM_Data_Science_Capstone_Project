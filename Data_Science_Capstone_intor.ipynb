{
 "cells": [
  {
   "cell_type": "markdown",
   "metadata": {},
   "source": [
    "# IBM Data Science Professional Certificate Capstone"
   ]
  },
  {
   "cell_type": "markdown",
   "metadata": {},
   "source": [
    "This project focuses on the application of data science techniques covered in the IBM Data Science Professional Certificate course wiht FourSquare API."
   ]
  },
  {
   "cell_type": "markdown",
   "metadata": {},
   "source": [
    "### By Xusen (Eason) Wang"
   ]
  },
  {
   "cell_type": "markdown",
   "metadata": {},
   "source": [
    "Email: xusen@ualberta.ca \\\n",
    "Linked in: Xusen (Eason) Wang"
   ]
  },
  {
   "cell_type": "markdown",
   "metadata": {},
   "source": [
    "## I. Introduction"
   ]
  },
  {
   "cell_type": "markdown",
   "metadata": {},
   "source": [
    "Toronto among with many other financial centres in the world are famous for its preminum housing price. In the past decades, the housing markets in these cities exoenantially growed and many people accumulated lots of wealth from the booming housing market.\\\n",
    "\\\n",
    "However, the wealth in the housing market did not distribute evenly in the housing market. Some neighbor's average price increased much more comparing to others.\n",
    "\n",
    "Therefore, this project focuses on predicting the housing price in Toronto area with the venues surrounding and output reconmendations to house investors to maximize profits."
   ]
  },
  {
   "cell_type": "markdown",
   "metadata": {},
   "source": [
    "## II. Data"
   ]
  },
  {
   "cell_type": "markdown",
   "metadata": {},
   "source": [
    "- Collect average housing price by neighborhood from [Toronto Open Data Base](https://open.toronto.ca)\n",
    "- Collect neighborhood coordinates with Geocoder library\n",
    "- Call Foursquare API for venues in the neighborhood\n",
    "- Cartigorize the venues and match with respective neighborhood"
   ]
  },
  {
   "cell_type": "code",
   "execution_count": null,
   "metadata": {},
   "outputs": [],
   "source": []
  }
 ],
 "metadata": {
  "kernelspec": {
   "display_name": "Python 3",
   "language": "python",
   "name": "python3"
  },
  "language_info": {
   "codemirror_mode": {
    "name": "ipython",
    "version": 3
   },
   "file_extension": ".py",
   "mimetype": "text/x-python",
   "name": "python",
   "nbconvert_exporter": "python",
   "pygments_lexer": "ipython3",
   "version": "3.7.6"
  }
 },
 "nbformat": 4,
 "nbformat_minor": 4
}
